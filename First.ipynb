{
 "cells": [
  {
   "cell_type": "code",
   "execution_count": 1,
   "id": "2d5b4964-319d-4aea-adae-34ed7668cd31",
   "metadata": {},
   "outputs": [
    {
     "name": "stdout",
     "output_type": "stream",
     "text": [
      "Hello world\n"
     ]
    }
   ],
   "source": [
    "print(\"Hello world\")"
   ]
  },
  {
   "cell_type": "code",
   "execution_count": 8,
   "id": "f17aab31-acfb-4c2a-b731-55f4385167be",
   "metadata": {},
   "outputs": [],
   "source": [
    "import pandas as pd"
   ]
  },
  {
   "cell_type": "code",
   "execution_count": 22,
   "id": "7f29bbef-32e2-4e25-8245-998349a96f8d",
   "metadata": {},
   "outputs": [],
   "source": [
    "df = pd.read_csv(r\"C:/Users/kbane/Desktop/dataset - 2020-09-24.csv\")"
   ]
  },
  {
   "cell_type": "code",
   "execution_count": 23,
   "id": "b7cefb10-b661-4f88-82ab-e68cc839e6a5",
   "metadata": {},
   "outputs": [
    {
     "name": "stdout",
     "output_type": "stream",
     "text": [
      "                   Name  Jersey Number     Club    Position Nationality   Age  \\\n",
      "0            Bernd Leno            1.0  Arsenal  Goalkeeper     Germany  28.0   \n",
      "1            Matt Macey           33.0  Arsenal  Goalkeeper     England  26.0   \n",
      "2  Rúnar Alex Rúnarsson           13.0  Arsenal  Goalkeeper     Iceland  25.0   \n",
      "3       Héctor Bellerín            2.0  Arsenal    Defender       Spain  25.0   \n",
      "4        Kieran Tierney            3.0  Arsenal    Defender    Scotland  23.0   \n",
      "\n",
      "   Appearances  Wins  Losses  Goals  ...  Punches  High Claims  Catches  \\\n",
      "0           64    28      16      0  ...     34.0         26.0     17.0   \n",
      "1            0     0       0      0  ...      0.0          0.0      0.0   \n",
      "2            0     0       0      0  ...      0.0          0.0      0.0   \n",
      "3          160    90      37      7  ...      NaN          NaN      NaN   \n",
      "4           16     7       5      1  ...      NaN          NaN      NaN   \n",
      "\n",
      "   Sweeper clearances  Throw outs  Goal Kicks  Yellow cards  Red cards Fouls  \\\n",
      "0                28.0       375.0       489.0             2          0     0   \n",
      "1                 0.0         0.0         0.0             0          0     0   \n",
      "2                 0.0         0.0         0.0             0          0     0   \n",
      "3                 NaN         NaN         NaN            23          0   125   \n",
      "4                 NaN         NaN         NaN             2          0     9   \n",
      "\n",
      "   Offsides  \n",
      "0       NaN  \n",
      "1       NaN  \n",
      "2       NaN  \n",
      "3       8.0  \n",
      "4       0.0  \n",
      "\n",
      "[5 rows x 59 columns]\n"
     ]
    }
   ],
   "source": [
    "print(df.head())"
   ]
  },
  {
   "cell_type": "code",
   "execution_count": null,
   "id": "fa86ca81-6150-4f2b-9888-d3c0849d1211",
   "metadata": {},
   "outputs": [],
   "source": [
    "\n",
    "\n",
    "\n",
    "\n",
    "\n",
    "\n",
    "\n",
    "\n",
    "\n",
    "\n",
    "\n",
    "\n",
    "\n",
    "\n",
    "\n",
    "\n",
    "\n",
    "\n",
    "\n",
    "\n",
    "\n",
    "\n",
    "\n",
    "\n",
    "\n",
    "\n",
    "\n",
    "\n",
    "\n",
    "\n",
    "\n"
   ]
  },
  {
   "cell_type": "code",
   "execution_count": null,
   "id": "c1de04f8-9730-450b-8866-8935b9b5b5ca",
   "metadata": {},
   "outputs": [],
   "source": []
  }
 ],
 "metadata": {
  "kernelspec": {
   "display_name": "Python 3 (ipykernel)",
   "language": "python",
   "name": "python3"
  },
  "language_info": {
   "codemirror_mode": {
    "name": "ipython",
    "version": 3
   },
   "file_extension": ".py",
   "mimetype": "text/x-python",
   "name": "python",
   "nbconvert_exporter": "python",
   "pygments_lexer": "ipython3",
   "version": "3.11.7"
  }
 },
 "nbformat": 4,
 "nbformat_minor": 5
}
